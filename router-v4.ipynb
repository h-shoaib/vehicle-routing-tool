{
 "cells": [
  {
   "cell_type": "markdown",
   "metadata": {},
   "source": [
    "## Changed the tomtom API code to get a distance matrix compatible with google OR tools"
   ]
  },
  {
   "cell_type": "code",
   "execution_count": 1,
   "metadata": {},
   "outputs": [
    {
     "name": "stdout",
     "output_type": "stream",
     "text": [
      "\n",
      "🗺️ Distance Matrix (Travel Time in Seconds):\n",
      "[0, 681, 830]\n",
      "[650, 0, 632]\n",
      "[876, 763, 0]\n"
     ]
    }
   ],
   "source": [
    "import requests\n",
    "\n",
    "API_KEY = \"7wIOKkBuughA4UKf04vLlhecCuOWZT5K\"\n",
    "\n",
    "def get_distance_matrix(locations):\n",
    "    url = f\"https://api.tomtom.com/routing/matrix/2?key={API_KEY}\"\n",
    "    \n",
    "    headers = {\n",
    "        \"Content-Type\": \"application/json\"\n",
    "    }\n",
    "\n",
    "    payload = {\n",
    "        \"origins\": [{\"point\": {\"latitude\": lat, \"longitude\": lon}} for lat, lon in locations],\n",
    "        \"destinations\": [{\"point\": {\"latitude\": lat, \"longitude\": lon}} for lat, lon in locations]\n",
    "    }\n",
    "\n",
    "    response = requests.post(url, json=payload, headers=headers)\n",
    "\n",
    "    if response.status_code == 200:\n",
    "        data = response.json()\n",
    "\n",
    "        if \"data\" not in data:\n",
    "            print(\"Error: 'data' key not found in API response!\")\n",
    "            return None\n",
    "\n",
    "        # Initialize distance matrix\n",
    "        size = len(locations)\n",
    "        distance_matrix = [[0] * size for _ in range(size)]\n",
    "\n",
    "        for entry in data[\"data\"]:\n",
    "            origin_idx = entry[\"originIndex\"]\n",
    "            destination_idx = entry[\"destinationIndex\"]\n",
    "\n",
    "            if origin_idx != destination_idx:\n",
    "                travel_time_seconds = entry[\"routeSummary\"][\"travelTimeInSeconds\"]\n",
    "                distance_matrix[origin_idx][destination_idx] = travel_time_seconds\n",
    "\n",
    "        return distance_matrix\n",
    "\n",
    "    else:\n",
    "        print(f\"Error {response.status_code}: {response.text}\")\n",
    "        return None\n",
    "\n",
    "locations = [\n",
    "    (25.27784594609928, 55.373069148949476),  # home\n",
    "    (25.27801591137463, 55.346953566319705),  # vzone\n",
    "    (25.29769325918848, 55.373502319059334)   # sahara center\n",
    "]\n",
    "\n",
    "distance_matrix = get_distance_matrix(locations)\n",
    "\n",
    "# Print formatted distance matrix\n",
    "if distance_matrix:\n",
    "    print(\"\\n🗺️ Distance Matrix (Travel Time in Seconds):\")\n",
    "    for row in distance_matrix:\n",
    "        print(row)"
   ]
  }
 ],
 "metadata": {
  "kernelspec": {
   "display_name": "vehicle_router",
   "language": "python",
   "name": "python3"
  },
  "language_info": {
   "codemirror_mode": {
    "name": "ipython",
    "version": 3
   },
   "file_extension": ".py",
   "mimetype": "text/x-python",
   "name": "python",
   "nbconvert_exporter": "python",
   "pygments_lexer": "ipython3",
   "version": "3.12.8"
  }
 },
 "nbformat": 4,
 "nbformat_minor": 2
}
